{
 "cells": [
  {
   "cell_type": "markdown",
   "metadata": {
    "toc": true
   },
   "source": [
    "<h1>Table of Contents<span class=\"tocSkip\"></span></h1>\n",
    "<div class=\"toc\"><ul class=\"toc-item\"><li><span><a href=\"#Description\" data-toc-modified-id=\"Description-1\"><span class=\"toc-item-num\">1&nbsp;&nbsp;</span>Description</a></span></li><li><span><a href=\"#Imports\" data-toc-modified-id=\"Imports-2\"><span class=\"toc-item-num\">2&nbsp;&nbsp;</span>Imports</a></span></li><li><span><a href=\"#Load-the-data\" data-toc-modified-id=\"Load-the-data-3\"><span class=\"toc-item-num\">3&nbsp;&nbsp;</span>Load the data</a></span></li><li><span><a href=\"#Reduce-Memory-size\" data-toc-modified-id=\"Reduce-Memory-size-4\"><span class=\"toc-item-num\">4&nbsp;&nbsp;</span>Reduce Memory size</a></span></li><li><span><a href=\"#Missing-values-and-Duplicated-ID\" data-toc-modified-id=\"Missing-values-and-Duplicated-ID-5\"><span class=\"toc-item-num\">5&nbsp;&nbsp;</span>Missing values and Duplicated ID</a></span></li><li><span><a href=\"#Features\" data-toc-modified-id=\"Features-6\"><span class=\"toc-item-num\">6&nbsp;&nbsp;</span>Features</a></span><ul class=\"toc-item\"><li><span><a href=\"#Vendor-id\" data-toc-modified-id=\"Vendor-id-6.1\"><span class=\"toc-item-num\">6.1&nbsp;&nbsp;</span>Vendor id</a></span></li></ul></li><li><span><a href=\"#Latutudes-and-Longitudes\" data-toc-modified-id=\"Latutudes-and-Longitudes-7\"><span class=\"toc-item-num\">7&nbsp;&nbsp;</span>Latutudes and Longitudes</a></span></li></ul></div>"
   ]
  },
  {
   "cell_type": "markdown",
   "metadata": {},
   "source": [
    "# Description\n",
    "\n",
    "The dataset is based on the [2016 NYC Yellow Cab trip record](https://cloud.google.com/bigquery/public-data/nyc-tlc-trips) and data was originally published by the [NYC Taxi and Limousine Commission (TLC)](http://www.nyc.gov/html/tlc/html/about/trip_record_data.shtml). \n",
    "\n",
    "**Features**\n",
    "\n",
    "- `id` - a unique identifier for each trip\n",
    "- `vendor_id` - a code indicating the provider associated with the trip record\n",
    "- `pickup_datetime` - date and time when the meter was engaged\n",
    "- `dropoff_datetime` - date and time when the meter was disengaged\n",
    "- `passenger_count` - the number of passengers in the vehicle (driver entered value)\n",
    "- `pickup_longitude` - the longitude where the meter was engaged\n",
    "- `pickup_latitude` - the latitude where the meter was engaged\n",
    "- `dropoff_longitude` - the longitude where the meter was disengaged\n",
    "- `dropoff_latitude` - the latitude where the meter was disengaged\n",
    "- `store_and_fwd_flag` - This flag indicates whether the trip record was held in vehicle memory before sending to the vendor because the vehicle did not have a connection to the server - Y=store and forward; N=not a store and forward trip\n",
    "- `trip_duration` - duration of the trip in seconds\n",
    "\n",
    "\n",
    "\n"
   ]
  },
  {
   "cell_type": "markdown",
   "metadata": {},
   "source": [
    "# Imports"
   ]
  },
  {
   "cell_type": "code",
   "execution_count": 2,
   "metadata": {
    "ExecuteTime": {
     "end_time": "2021-05-19T18:16:58.959082Z",
     "start_time": "2021-05-19T18:16:56.395622Z"
    }
   },
   "outputs": [
    {
     "name": "stdout",
     "output_type": "stream",
     "text": [
      "numpy   1.19.5\n",
      "seaborn 0.11.0\n",
      "pandas  1.1.4\n",
      "\n"
     ]
    }
   ],
   "source": [
    "import numpy as np\n",
    "import pandas as pd\n",
    "import os,sys,time\n",
    "\n",
    "# visualization\n",
    "import matplotlib.pyplot as plt\n",
    "import seaborn as sns\n",
    "sns.set()\n",
    "\n",
    "# settings\n",
    "SEED = 100\n",
    "pd.set_option('max_columns',100)\n",
    "pd.set_option('plotting.backend','matplotlib') # matplotlib, bokeh, altair, plotly\n",
    "\n",
    "%matplotlib inline\n",
    "%load_ext watermark\n",
    "%watermark -iv"
   ]
  },
  {
   "cell_type": "code",
   "execution_count": 3,
   "metadata": {
    "ExecuteTime": {
     "end_time": "2021-05-19T18:17:00.595295Z",
     "start_time": "2021-05-19T18:16:58.961554Z"
    }
   },
   "outputs": [],
   "source": [
    "# my local library\n",
    "import sys\n",
    "sys.path.append(\"/Users/poudel/Dropbox/a00_Bhishan_Modules/\")\n",
    "sys.path.append(\"/Users/poudel/Dropbox/a00_Bhishan_Modules/bhishan\")\n",
    "from bhishan import bp"
   ]
  },
  {
   "cell_type": "markdown",
   "metadata": {},
   "source": [
    "# Load the data"
   ]
  },
  {
   "cell_type": "code",
   "execution_count": 4,
   "metadata": {
    "ExecuteTime": {
     "end_time": "2021-05-19T18:17:00.856975Z",
     "start_time": "2021-05-19T18:17:00.598424Z"
    }
   },
   "outputs": [
    {
     "name": "stdout",
     "output_type": "stream",
     "text": [
      "train.zip\n",
      " 63M\t../data/train.zip\n"
     ]
    }
   ],
   "source": [
    "!ls ../data\n",
    "!du -sh ../data/train.zip"
   ]
  },
  {
   "cell_type": "code",
   "execution_count": 5,
   "metadata": {
    "ExecuteTime": {
     "end_time": "2021-05-19T18:17:05.815678Z",
     "start_time": "2021-05-19T18:17:00.865747Z"
    }
   },
   "outputs": [
    {
     "name": "stdout",
     "output_type": "stream",
     "text": [
      "rows = 1,458,644 columns = 11\n"
     ]
    },
    {
     "data": {
      "text/html": [
       "<div>\n",
       "<style scoped>\n",
       "    .dataframe tbody tr th:only-of-type {\n",
       "        vertical-align: middle;\n",
       "    }\n",
       "\n",
       "    .dataframe tbody tr th {\n",
       "        vertical-align: top;\n",
       "    }\n",
       "\n",
       "    .dataframe thead th {\n",
       "        text-align: right;\n",
       "    }\n",
       "</style>\n",
       "<table border=\"1\" class=\"dataframe\">\n",
       "  <thead>\n",
       "    <tr style=\"text-align: right;\">\n",
       "      <th></th>\n",
       "      <th>id</th>\n",
       "      <th>vendor_id</th>\n",
       "      <th>pickup_datetime</th>\n",
       "      <th>dropoff_datetime</th>\n",
       "      <th>passenger_count</th>\n",
       "      <th>pickup_longitude</th>\n",
       "      <th>pickup_latitude</th>\n",
       "      <th>dropoff_longitude</th>\n",
       "      <th>dropoff_latitude</th>\n",
       "      <th>store_and_fwd_flag</th>\n",
       "      <th>trip_duration</th>\n",
       "    </tr>\n",
       "  </thead>\n",
       "  <tbody>\n",
       "    <tr>\n",
       "      <th>0</th>\n",
       "      <td>id2875421</td>\n",
       "      <td>2</td>\n",
       "      <td>2016-03-14 17:24:55</td>\n",
       "      <td>2016-03-14 17:32:30</td>\n",
       "      <td>1</td>\n",
       "      <td>-73.982155</td>\n",
       "      <td>40.767937</td>\n",
       "      <td>-73.964630</td>\n",
       "      <td>40.765602</td>\n",
       "      <td>N</td>\n",
       "      <td>455</td>\n",
       "    </tr>\n",
       "    <tr>\n",
       "      <th>1</th>\n",
       "      <td>id2377394</td>\n",
       "      <td>1</td>\n",
       "      <td>2016-06-12 00:43:35</td>\n",
       "      <td>2016-06-12 00:54:38</td>\n",
       "      <td>1</td>\n",
       "      <td>-73.980415</td>\n",
       "      <td>40.738564</td>\n",
       "      <td>-73.999481</td>\n",
       "      <td>40.731152</td>\n",
       "      <td>N</td>\n",
       "      <td>663</td>\n",
       "    </tr>\n",
       "    <tr>\n",
       "      <th>1458642</th>\n",
       "      <td>id2714485</td>\n",
       "      <td>1</td>\n",
       "      <td>2016-01-05 15:56:26</td>\n",
       "      <td>2016-01-05 16:02:39</td>\n",
       "      <td>1</td>\n",
       "      <td>-73.982079</td>\n",
       "      <td>40.749062</td>\n",
       "      <td>-73.974632</td>\n",
       "      <td>40.757107</td>\n",
       "      <td>N</td>\n",
       "      <td>373</td>\n",
       "    </tr>\n",
       "    <tr>\n",
       "      <th>1458643</th>\n",
       "      <td>id1209952</td>\n",
       "      <td>1</td>\n",
       "      <td>2016-04-05 14:44:25</td>\n",
       "      <td>2016-04-05 14:47:43</td>\n",
       "      <td>1</td>\n",
       "      <td>-73.979538</td>\n",
       "      <td>40.781750</td>\n",
       "      <td>-73.972809</td>\n",
       "      <td>40.790585</td>\n",
       "      <td>N</td>\n",
       "      <td>198</td>\n",
       "    </tr>\n",
       "  </tbody>\n",
       "</table>\n",
       "</div>"
      ],
      "text/plain": [
       "                id  vendor_id     pickup_datetime    dropoff_datetime  \\\n",
       "0        id2875421          2 2016-03-14 17:24:55 2016-03-14 17:32:30   \n",
       "1        id2377394          1 2016-06-12 00:43:35 2016-06-12 00:54:38   \n",
       "1458642  id2714485          1 2016-01-05 15:56:26 2016-01-05 16:02:39   \n",
       "1458643  id1209952          1 2016-04-05 14:44:25 2016-04-05 14:47:43   \n",
       "\n",
       "         passenger_count  pickup_longitude  pickup_latitude  \\\n",
       "0                      1        -73.982155        40.767937   \n",
       "1                      1        -73.980415        40.738564   \n",
       "1458642                1        -73.982079        40.749062   \n",
       "1458643                1        -73.979538        40.781750   \n",
       "\n",
       "         dropoff_longitude  dropoff_latitude store_and_fwd_flag  trip_duration  \n",
       "0               -73.964630         40.765602                  N            455  \n",
       "1               -73.999481         40.731152                  N            663  \n",
       "1458642         -73.974632         40.757107                  N            373  \n",
       "1458643         -73.972809         40.790585                  N            198  "
      ]
     },
     "execution_count": 5,
     "metadata": {},
     "output_type": "execute_result"
    }
   ],
   "source": [
    "df = pd.read_csv('../data/train.zip',compression='zip',\n",
    "                 infer_datetime_format=True,parse_dates=[2,3],\n",
    "                engine='c')\n",
    "print(f\"rows = {df.shape[0]:,d} columns = {df.shape[1]:,d}\")\n",
    "df.head(2).append(df.tail(2))"
   ]
  },
  {
   "cell_type": "code",
   "execution_count": 6,
   "metadata": {
    "ExecuteTime": {
     "end_time": "2021-05-19T18:17:21.027413Z",
     "start_time": "2021-05-19T18:17:05.819072Z"
    }
   },
   "outputs": [
    {
     "data": {
      "text/html": [
       "<style  type=\"text/css\" >\n",
       "#T_73c74efc_b8ce_11eb_848f_acde48001122row0_col6,#T_73c74efc_b8ce_11eb_848f_acde48001122row0_col8,#T_73c74efc_b8ce_11eb_848f_acde48001122row1_col6,#T_73c74efc_b8ce_11eb_848f_acde48001122row1_col8,#T_73c74efc_b8ce_11eb_848f_acde48001122row1_col10,#T_73c74efc_b8ce_11eb_848f_acde48001122row2_col6,#T_73c74efc_b8ce_11eb_848f_acde48001122row2_col8,#T_73c74efc_b8ce_11eb_848f_acde48001122row3_col6,#T_73c74efc_b8ce_11eb_848f_acde48001122row3_col8,#T_73c74efc_b8ce_11eb_848f_acde48001122row3_col10,#T_73c74efc_b8ce_11eb_848f_acde48001122row4_col6,#T_73c74efc_b8ce_11eb_848f_acde48001122row4_col8,#T_73c74efc_b8ce_11eb_848f_acde48001122row4_col10,#T_73c74efc_b8ce_11eb_848f_acde48001122row5_col6,#T_73c74efc_b8ce_11eb_848f_acde48001122row5_col8,#T_73c74efc_b8ce_11eb_848f_acde48001122row5_col10,#T_73c74efc_b8ce_11eb_848f_acde48001122row6_col6,#T_73c74efc_b8ce_11eb_848f_acde48001122row6_col8,#T_73c74efc_b8ce_11eb_848f_acde48001122row6_col10,#T_73c74efc_b8ce_11eb_848f_acde48001122row7_col6,#T_73c74efc_b8ce_11eb_848f_acde48001122row7_col8,#T_73c74efc_b8ce_11eb_848f_acde48001122row7_col10,#T_73c74efc_b8ce_11eb_848f_acde48001122row8_col6,#T_73c74efc_b8ce_11eb_848f_acde48001122row8_col8,#T_73c74efc_b8ce_11eb_848f_acde48001122row8_col10,#T_73c74efc_b8ce_11eb_848f_acde48001122row9_col6,#T_73c74efc_b8ce_11eb_848f_acde48001122row9_col8,#T_73c74efc_b8ce_11eb_848f_acde48001122row9_col10,#T_73c74efc_b8ce_11eb_848f_acde48001122row10_col6,#T_73c74efc_b8ce_11eb_848f_acde48001122row10_col8,#T_73c74efc_b8ce_11eb_848f_acde48001122row10_col10{\n",
       "            background-color:  #fff7fb;\n",
       "            color:  #000000;\n",
       "        }#T_73c74efc_b8ce_11eb_848f_acde48001122row0_col10{\n",
       "            background-color:  #023858;\n",
       "            color:  #f1f1f1;\n",
       "        }#T_73c74efc_b8ce_11eb_848f_acde48001122row1_col1,#T_73c74efc_b8ce_11eb_848f_acde48001122row9_col1{\n",
       "            background:  salmon;\n",
       "        }#T_73c74efc_b8ce_11eb_848f_acde48001122row2_col10{\n",
       "            background-color:  #2a88bc;\n",
       "            color:  #000000;\n",
       "        }</style><table id=\"T_73c74efc_b8ce_11eb_848f_acde48001122\" ><thead>    <tr>        <th class=\"blank level0\" ></th>        <th class=\"col_heading level0 col0\" >Feature</th>        <th class=\"col_heading level0 col1\" >Type</th>        <th class=\"col_heading level0 col2\" >N</th>        <th class=\"col_heading level0 col3\" >Count</th>        <th class=\"col_heading level0 col4\" >Unique</th>        <th class=\"col_heading level0 col5\" >Missing</th>        <th class=\"col_heading level0 col6\" >MissingPct</th>        <th class=\"col_heading level0 col7\" >Zeros</th>        <th class=\"col_heading level0 col8\" >ZerosPct</th>        <th class=\"col_heading level0 col9\" >Ones</th>        <th class=\"col_heading level0 col10\" >OnesPct</th>        <th class=\"col_heading level0 col11\" >mean</th>        <th class=\"col_heading level0 col12\" >std</th>        <th class=\"col_heading level0 col13\" >min</th>        <th class=\"col_heading level0 col14\" >max</th>        <th class=\"col_heading level0 col15\" >25%</th>        <th class=\"col_heading level0 col16\" >50%</th>        <th class=\"col_heading level0 col17\" >75%</th>        <th class=\"col_heading level0 col18\" >Feature2</th>        <th class=\"col_heading level0 col19\" >smallest5</th>        <th class=\"col_heading level0 col20\" >largest5</th>        <th class=\"col_heading level0 col21\" >first5</th>        <th class=\"col_heading level0 col22\" >last5</th>    </tr></thead><tbody>\n",
       "                <tr>\n",
       "                        <th id=\"T_73c74efc_b8ce_11eb_848f_acde48001122level0_row0\" class=\"row_heading level0 row0\" >4</th>\n",
       "                        <td id=\"T_73c74efc_b8ce_11eb_848f_acde48001122row0_col0\" class=\"data row0 col0\" >passenger_count</td>\n",
       "                        <td id=\"T_73c74efc_b8ce_11eb_848f_acde48001122row0_col1\" class=\"data row0 col1\" >int64</td>\n",
       "                        <td id=\"T_73c74efc_b8ce_11eb_848f_acde48001122row0_col2\" class=\"data row0 col2\" >1458644</td>\n",
       "                        <td id=\"T_73c74efc_b8ce_11eb_848f_acde48001122row0_col3\" class=\"data row0 col3\" >1458644</td>\n",
       "                        <td id=\"T_73c74efc_b8ce_11eb_848f_acde48001122row0_col4\" class=\"data row0 col4\" >10</td>\n",
       "                        <td id=\"T_73c74efc_b8ce_11eb_848f_acde48001122row0_col5\" class=\"data row0 col5\" >0</td>\n",
       "                        <td id=\"T_73c74efc_b8ce_11eb_848f_acde48001122row0_col6\" class=\"data row0 col6\" >0.00</td>\n",
       "                        <td id=\"T_73c74efc_b8ce_11eb_848f_acde48001122row0_col7\" class=\"data row0 col7\" >60</td>\n",
       "                        <td id=\"T_73c74efc_b8ce_11eb_848f_acde48001122row0_col8\" class=\"data row0 col8\" >0.00</td>\n",
       "                        <td id=\"T_73c74efc_b8ce_11eb_848f_acde48001122row0_col9\" class=\"data row0 col9\" >1033540</td>\n",
       "                        <td id=\"T_73c74efc_b8ce_11eb_848f_acde48001122row0_col10\" class=\"data row0 col10\" >70.86</td>\n",
       "                        <td id=\"T_73c74efc_b8ce_11eb_848f_acde48001122row0_col11\" class=\"data row0 col11\" >1.66</td>\n",
       "                        <td id=\"T_73c74efc_b8ce_11eb_848f_acde48001122row0_col12\" class=\"data row0 col12\" >1.31</td>\n",
       "                        <td id=\"T_73c74efc_b8ce_11eb_848f_acde48001122row0_col13\" class=\"data row0 col13\" >0.00</td>\n",
       "                        <td id=\"T_73c74efc_b8ce_11eb_848f_acde48001122row0_col14\" class=\"data row0 col14\" >9.00</td>\n",
       "                        <td id=\"T_73c74efc_b8ce_11eb_848f_acde48001122row0_col15\" class=\"data row0 col15\" >1.00</td>\n",
       "                        <td id=\"T_73c74efc_b8ce_11eb_848f_acde48001122row0_col16\" class=\"data row0 col16\" >1.00</td>\n",
       "                        <td id=\"T_73c74efc_b8ce_11eb_848f_acde48001122row0_col17\" class=\"data row0 col17\" >2.00</td>\n",
       "                        <td id=\"T_73c74efc_b8ce_11eb_848f_acde48001122row0_col18\" class=\"data row0 col18\" >passenger_count</td>\n",
       "                        <td id=\"T_73c74efc_b8ce_11eb_848f_acde48001122row0_col19\" class=\"data row0 col19\" >[0, 0, 0, 0, 0]</td>\n",
       "                        <td id=\"T_73c74efc_b8ce_11eb_848f_acde48001122row0_col20\" class=\"data row0 col20\" >[9, 8, 7, 7, 7]</td>\n",
       "                        <td id=\"T_73c74efc_b8ce_11eb_848f_acde48001122row0_col21\" class=\"data row0 col21\" >[1, 1, 1, 1, 1]</td>\n",
       "                        <td id=\"T_73c74efc_b8ce_11eb_848f_acde48001122row0_col22\" class=\"data row0 col22\" >[4, 1, 1, 1, 1]</td>\n",
       "            </tr>\n",
       "            <tr>\n",
       "                        <th id=\"T_73c74efc_b8ce_11eb_848f_acde48001122level0_row1\" class=\"row_heading level0 row1\" >0</th>\n",
       "                        <td id=\"T_73c74efc_b8ce_11eb_848f_acde48001122row1_col0\" class=\"data row1 col0\" >id</td>\n",
       "                        <td id=\"T_73c74efc_b8ce_11eb_848f_acde48001122row1_col1\" class=\"data row1 col1\" >object</td>\n",
       "                        <td id=\"T_73c74efc_b8ce_11eb_848f_acde48001122row1_col2\" class=\"data row1 col2\" >1458644</td>\n",
       "                        <td id=\"T_73c74efc_b8ce_11eb_848f_acde48001122row1_col3\" class=\"data row1 col3\" >1458644</td>\n",
       "                        <td id=\"T_73c74efc_b8ce_11eb_848f_acde48001122row1_col4\" class=\"data row1 col4\" >1458644</td>\n",
       "                        <td id=\"T_73c74efc_b8ce_11eb_848f_acde48001122row1_col5\" class=\"data row1 col5\" >0</td>\n",
       "                        <td id=\"T_73c74efc_b8ce_11eb_848f_acde48001122row1_col6\" class=\"data row1 col6\" >0.00</td>\n",
       "                        <td id=\"T_73c74efc_b8ce_11eb_848f_acde48001122row1_col7\" class=\"data row1 col7\" >0</td>\n",
       "                        <td id=\"T_73c74efc_b8ce_11eb_848f_acde48001122row1_col8\" class=\"data row1 col8\" >0.00</td>\n",
       "                        <td id=\"T_73c74efc_b8ce_11eb_848f_acde48001122row1_col9\" class=\"data row1 col9\" >0</td>\n",
       "                        <td id=\"T_73c74efc_b8ce_11eb_848f_acde48001122row1_col10\" class=\"data row1 col10\" >0.00</td>\n",
       "                        <td id=\"T_73c74efc_b8ce_11eb_848f_acde48001122row1_col11\" class=\"data row1 col11\" ></td>\n",
       "                        <td id=\"T_73c74efc_b8ce_11eb_848f_acde48001122row1_col12\" class=\"data row1 col12\" ></td>\n",
       "                        <td id=\"T_73c74efc_b8ce_11eb_848f_acde48001122row1_col13\" class=\"data row1 col13\" ></td>\n",
       "                        <td id=\"T_73c74efc_b8ce_11eb_848f_acde48001122row1_col14\" class=\"data row1 col14\" ></td>\n",
       "                        <td id=\"T_73c74efc_b8ce_11eb_848f_acde48001122row1_col15\" class=\"data row1 col15\" ></td>\n",
       "                        <td id=\"T_73c74efc_b8ce_11eb_848f_acde48001122row1_col16\" class=\"data row1 col16\" ></td>\n",
       "                        <td id=\"T_73c74efc_b8ce_11eb_848f_acde48001122row1_col17\" class=\"data row1 col17\" ></td>\n",
       "                        <td id=\"T_73c74efc_b8ce_11eb_848f_acde48001122row1_col18\" class=\"data row1 col18\" >id</td>\n",
       "                        <td id=\"T_73c74efc_b8ce_11eb_848f_acde48001122row1_col19\" class=\"data row1 col19\" >['id0000001', 'id0000003', 'id0000005', 'id0000008', 'id0000009']</td>\n",
       "                        <td id=\"T_73c74efc_b8ce_11eb_848f_acde48001122row1_col20\" class=\"data row1 col20\" >['id4000000', 'id3999999', 'id3999998', 'id3999992', 'id3999988']</td>\n",
       "                        <td id=\"T_73c74efc_b8ce_11eb_848f_acde48001122row1_col21\" class=\"data row1 col21\" >['id2875421', 'id2377394', 'id3858529', 'id3504673', 'id2181028']</td>\n",
       "                        <td id=\"T_73c74efc_b8ce_11eb_848f_acde48001122row1_col22\" class=\"data row1 col22\" >['id2376096', 'id1049543', 'id2304944', 'id2714485', 'id1209952']</td>\n",
       "            </tr>\n",
       "            <tr>\n",
       "                        <th id=\"T_73c74efc_b8ce_11eb_848f_acde48001122level0_row2\" class=\"row_heading level0 row2\" >1</th>\n",
       "                        <td id=\"T_73c74efc_b8ce_11eb_848f_acde48001122row2_col0\" class=\"data row2 col0\" >vendor_id</td>\n",
       "                        <td id=\"T_73c74efc_b8ce_11eb_848f_acde48001122row2_col1\" class=\"data row2 col1\" >int64</td>\n",
       "                        <td id=\"T_73c74efc_b8ce_11eb_848f_acde48001122row2_col2\" class=\"data row2 col2\" >1458644</td>\n",
       "                        <td id=\"T_73c74efc_b8ce_11eb_848f_acde48001122row2_col3\" class=\"data row2 col3\" >1458644</td>\n",
       "                        <td id=\"T_73c74efc_b8ce_11eb_848f_acde48001122row2_col4\" class=\"data row2 col4\" >2</td>\n",
       "                        <td id=\"T_73c74efc_b8ce_11eb_848f_acde48001122row2_col5\" class=\"data row2 col5\" >0</td>\n",
       "                        <td id=\"T_73c74efc_b8ce_11eb_848f_acde48001122row2_col6\" class=\"data row2 col6\" >0.00</td>\n",
       "                        <td id=\"T_73c74efc_b8ce_11eb_848f_acde48001122row2_col7\" class=\"data row2 col7\" >0</td>\n",
       "                        <td id=\"T_73c74efc_b8ce_11eb_848f_acde48001122row2_col8\" class=\"data row2 col8\" >0.00</td>\n",
       "                        <td id=\"T_73c74efc_b8ce_11eb_848f_acde48001122row2_col9\" class=\"data row2 col9\" >678342</td>\n",
       "                        <td id=\"T_73c74efc_b8ce_11eb_848f_acde48001122row2_col10\" class=\"data row2 col10\" >46.50</td>\n",
       "                        <td id=\"T_73c74efc_b8ce_11eb_848f_acde48001122row2_col11\" class=\"data row2 col11\" >1.53</td>\n",
       "                        <td id=\"T_73c74efc_b8ce_11eb_848f_acde48001122row2_col12\" class=\"data row2 col12\" >0.50</td>\n",
       "                        <td id=\"T_73c74efc_b8ce_11eb_848f_acde48001122row2_col13\" class=\"data row2 col13\" >1.00</td>\n",
       "                        <td id=\"T_73c74efc_b8ce_11eb_848f_acde48001122row2_col14\" class=\"data row2 col14\" >2.00</td>\n",
       "                        <td id=\"T_73c74efc_b8ce_11eb_848f_acde48001122row2_col15\" class=\"data row2 col15\" >1.00</td>\n",
       "                        <td id=\"T_73c74efc_b8ce_11eb_848f_acde48001122row2_col16\" class=\"data row2 col16\" >2.00</td>\n",
       "                        <td id=\"T_73c74efc_b8ce_11eb_848f_acde48001122row2_col17\" class=\"data row2 col17\" >2.00</td>\n",
       "                        <td id=\"T_73c74efc_b8ce_11eb_848f_acde48001122row2_col18\" class=\"data row2 col18\" >vendor_id</td>\n",
       "                        <td id=\"T_73c74efc_b8ce_11eb_848f_acde48001122row2_col19\" class=\"data row2 col19\" >[1, 1, 1, 1, 1]</td>\n",
       "                        <td id=\"T_73c74efc_b8ce_11eb_848f_acde48001122row2_col20\" class=\"data row2 col20\" >[2, 2, 2, 2, 2]</td>\n",
       "                        <td id=\"T_73c74efc_b8ce_11eb_848f_acde48001122row2_col21\" class=\"data row2 col21\" >[2, 1, 2, 2, 2]</td>\n",
       "                        <td id=\"T_73c74efc_b8ce_11eb_848f_acde48001122row2_col22\" class=\"data row2 col22\" >[2, 1, 2, 1, 1]</td>\n",
       "            </tr>\n",
       "            <tr>\n",
       "                        <th id=\"T_73c74efc_b8ce_11eb_848f_acde48001122level0_row3\" class=\"row_heading level0 row3\" >2</th>\n",
       "                        <td id=\"T_73c74efc_b8ce_11eb_848f_acde48001122row3_col0\" class=\"data row3 col0\" >pickup_datetime</td>\n",
       "                        <td id=\"T_73c74efc_b8ce_11eb_848f_acde48001122row3_col1\" class=\"data row3 col1\" >datetime64[ns]</td>\n",
       "                        <td id=\"T_73c74efc_b8ce_11eb_848f_acde48001122row3_col2\" class=\"data row3 col2\" >1458644</td>\n",
       "                        <td id=\"T_73c74efc_b8ce_11eb_848f_acde48001122row3_col3\" class=\"data row3 col3\" >1458644</td>\n",
       "                        <td id=\"T_73c74efc_b8ce_11eb_848f_acde48001122row3_col4\" class=\"data row3 col4\" >1380222</td>\n",
       "                        <td id=\"T_73c74efc_b8ce_11eb_848f_acde48001122row3_col5\" class=\"data row3 col5\" >0</td>\n",
       "                        <td id=\"T_73c74efc_b8ce_11eb_848f_acde48001122row3_col6\" class=\"data row3 col6\" >0.00</td>\n",
       "                        <td id=\"T_73c74efc_b8ce_11eb_848f_acde48001122row3_col7\" class=\"data row3 col7\" >0</td>\n",
       "                        <td id=\"T_73c74efc_b8ce_11eb_848f_acde48001122row3_col8\" class=\"data row3 col8\" >0.00</td>\n",
       "                        <td id=\"T_73c74efc_b8ce_11eb_848f_acde48001122row3_col9\" class=\"data row3 col9\" >0</td>\n",
       "                        <td id=\"T_73c74efc_b8ce_11eb_848f_acde48001122row3_col10\" class=\"data row3 col10\" >0.00</td>\n",
       "                        <td id=\"T_73c74efc_b8ce_11eb_848f_acde48001122row3_col11\" class=\"data row3 col11\" ></td>\n",
       "                        <td id=\"T_73c74efc_b8ce_11eb_848f_acde48001122row3_col12\" class=\"data row3 col12\" ></td>\n",
       "                        <td id=\"T_73c74efc_b8ce_11eb_848f_acde48001122row3_col13\" class=\"data row3 col13\" ></td>\n",
       "                        <td id=\"T_73c74efc_b8ce_11eb_848f_acde48001122row3_col14\" class=\"data row3 col14\" ></td>\n",
       "                        <td id=\"T_73c74efc_b8ce_11eb_848f_acde48001122row3_col15\" class=\"data row3 col15\" ></td>\n",
       "                        <td id=\"T_73c74efc_b8ce_11eb_848f_acde48001122row3_col16\" class=\"data row3 col16\" ></td>\n",
       "                        <td id=\"T_73c74efc_b8ce_11eb_848f_acde48001122row3_col17\" class=\"data row3 col17\" ></td>\n",
       "                        <td id=\"T_73c74efc_b8ce_11eb_848f_acde48001122row3_col18\" class=\"data row3 col18\" >pickup_datetime</td>\n",
       "                        <td id=\"T_73c74efc_b8ce_11eb_848f_acde48001122row3_col19\" class=\"data row3 col19\" >[Timestamp('2016-01-01 00:00:17'), Timestamp('2016-01-01 00:00:53'), Timestamp('2016-01-01 00:01:01'), Timestamp('2016-01-01 00:01:14'), Timestamp('2016-01-01 00:01:20')]</td>\n",
       "                        <td id=\"T_73c74efc_b8ce_11eb_848f_acde48001122row3_col20\" class=\"data row3 col20\" >[Timestamp('2016-06-30 23:59:39'), Timestamp('2016-06-30 23:59:37'), Timestamp('2016-06-30 23:59:10'), Timestamp('2016-06-30 23:59:09'), Timestamp('2016-06-30 23:58:52')]</td>\n",
       "                        <td id=\"T_73c74efc_b8ce_11eb_848f_acde48001122row3_col21\" class=\"data row3 col21\" >[Timestamp('2016-03-14 17:24:55'), Timestamp('2016-06-12 00:43:35'), Timestamp('2016-01-19 11:35:24'), Timestamp('2016-04-06 19:32:31'), Timestamp('2016-03-26 13:30:55')]</td>\n",
       "                        <td id=\"T_73c74efc_b8ce_11eb_848f_acde48001122row3_col22\" class=\"data row3 col22\" >[Timestamp('2016-04-08 13:31:04'), Timestamp('2016-01-10 07:35:15'), Timestamp('2016-04-22 06:57:41'), Timestamp('2016-01-05 15:56:26'), Timestamp('2016-04-05 14:44:25')]</td>\n",
       "            </tr>\n",
       "            <tr>\n",
       "                        <th id=\"T_73c74efc_b8ce_11eb_848f_acde48001122level0_row4\" class=\"row_heading level0 row4\" >3</th>\n",
       "                        <td id=\"T_73c74efc_b8ce_11eb_848f_acde48001122row4_col0\" class=\"data row4 col0\" >dropoff_datetime</td>\n",
       "                        <td id=\"T_73c74efc_b8ce_11eb_848f_acde48001122row4_col1\" class=\"data row4 col1\" >datetime64[ns]</td>\n",
       "                        <td id=\"T_73c74efc_b8ce_11eb_848f_acde48001122row4_col2\" class=\"data row4 col2\" >1458644</td>\n",
       "                        <td id=\"T_73c74efc_b8ce_11eb_848f_acde48001122row4_col3\" class=\"data row4 col3\" >1458644</td>\n",
       "                        <td id=\"T_73c74efc_b8ce_11eb_848f_acde48001122row4_col4\" class=\"data row4 col4\" >1380377</td>\n",
       "                        <td id=\"T_73c74efc_b8ce_11eb_848f_acde48001122row4_col5\" class=\"data row4 col5\" >0</td>\n",
       "                        <td id=\"T_73c74efc_b8ce_11eb_848f_acde48001122row4_col6\" class=\"data row4 col6\" >0.00</td>\n",
       "                        <td id=\"T_73c74efc_b8ce_11eb_848f_acde48001122row4_col7\" class=\"data row4 col7\" >0</td>\n",
       "                        <td id=\"T_73c74efc_b8ce_11eb_848f_acde48001122row4_col8\" class=\"data row4 col8\" >0.00</td>\n",
       "                        <td id=\"T_73c74efc_b8ce_11eb_848f_acde48001122row4_col9\" class=\"data row4 col9\" >0</td>\n",
       "                        <td id=\"T_73c74efc_b8ce_11eb_848f_acde48001122row4_col10\" class=\"data row4 col10\" >0.00</td>\n",
       "                        <td id=\"T_73c74efc_b8ce_11eb_848f_acde48001122row4_col11\" class=\"data row4 col11\" ></td>\n",
       "                        <td id=\"T_73c74efc_b8ce_11eb_848f_acde48001122row4_col12\" class=\"data row4 col12\" ></td>\n",
       "                        <td id=\"T_73c74efc_b8ce_11eb_848f_acde48001122row4_col13\" class=\"data row4 col13\" ></td>\n",
       "                        <td id=\"T_73c74efc_b8ce_11eb_848f_acde48001122row4_col14\" class=\"data row4 col14\" ></td>\n",
       "                        <td id=\"T_73c74efc_b8ce_11eb_848f_acde48001122row4_col15\" class=\"data row4 col15\" ></td>\n",
       "                        <td id=\"T_73c74efc_b8ce_11eb_848f_acde48001122row4_col16\" class=\"data row4 col16\" ></td>\n",
       "                        <td id=\"T_73c74efc_b8ce_11eb_848f_acde48001122row4_col17\" class=\"data row4 col17\" ></td>\n",
       "                        <td id=\"T_73c74efc_b8ce_11eb_848f_acde48001122row4_col18\" class=\"data row4 col18\" >dropoff_datetime</td>\n",
       "                        <td id=\"T_73c74efc_b8ce_11eb_848f_acde48001122row4_col19\" class=\"data row4 col19\" >[Timestamp('2016-01-01 00:03:31'), Timestamp('2016-01-01 00:05:54'), Timestamp('2016-01-01 00:07:13'), Timestamp('2016-01-01 00:07:25'), Timestamp('2016-01-01 00:07:49')]</td>\n",
       "                        <td id=\"T_73c74efc_b8ce_11eb_848f_acde48001122row4_col20\" class=\"data row4 col20\" >[Timestamp('2016-07-01 23:02:03'), Timestamp('2016-07-01 22:10:26'), Timestamp('2016-07-01 20:17:00'), Timestamp('2016-07-01 19:54:54'), Timestamp('2016-07-01 16:37:39')]</td>\n",
       "                        <td id=\"T_73c74efc_b8ce_11eb_848f_acde48001122row4_col21\" class=\"data row4 col21\" >[Timestamp('2016-03-14 17:32:30'), Timestamp('2016-06-12 00:54:38'), Timestamp('2016-01-19 12:10:48'), Timestamp('2016-04-06 19:39:40'), Timestamp('2016-03-26 13:38:10')]</td>\n",
       "                        <td id=\"T_73c74efc_b8ce_11eb_848f_acde48001122row4_col22\" class=\"data row4 col22\" >[Timestamp('2016-04-08 13:44:02'), Timestamp('2016-01-10 07:46:10'), Timestamp('2016-04-22 07:10:25'), Timestamp('2016-01-05 16:02:39'), Timestamp('2016-04-05 14:47:43')]</td>\n",
       "            </tr>\n",
       "            <tr>\n",
       "                        <th id=\"T_73c74efc_b8ce_11eb_848f_acde48001122level0_row5\" class=\"row_heading level0 row5\" >5</th>\n",
       "                        <td id=\"T_73c74efc_b8ce_11eb_848f_acde48001122row5_col0\" class=\"data row5 col0\" >pickup_longitude</td>\n",
       "                        <td id=\"T_73c74efc_b8ce_11eb_848f_acde48001122row5_col1\" class=\"data row5 col1\" >float64</td>\n",
       "                        <td id=\"T_73c74efc_b8ce_11eb_848f_acde48001122row5_col2\" class=\"data row5 col2\" >1458644</td>\n",
       "                        <td id=\"T_73c74efc_b8ce_11eb_848f_acde48001122row5_col3\" class=\"data row5 col3\" >1458644</td>\n",
       "                        <td id=\"T_73c74efc_b8ce_11eb_848f_acde48001122row5_col4\" class=\"data row5 col4\" >23047</td>\n",
       "                        <td id=\"T_73c74efc_b8ce_11eb_848f_acde48001122row5_col5\" class=\"data row5 col5\" >0</td>\n",
       "                        <td id=\"T_73c74efc_b8ce_11eb_848f_acde48001122row5_col6\" class=\"data row5 col6\" >0.00</td>\n",
       "                        <td id=\"T_73c74efc_b8ce_11eb_848f_acde48001122row5_col7\" class=\"data row5 col7\" >0</td>\n",
       "                        <td id=\"T_73c74efc_b8ce_11eb_848f_acde48001122row5_col8\" class=\"data row5 col8\" >0.00</td>\n",
       "                        <td id=\"T_73c74efc_b8ce_11eb_848f_acde48001122row5_col9\" class=\"data row5 col9\" >0</td>\n",
       "                        <td id=\"T_73c74efc_b8ce_11eb_848f_acde48001122row5_col10\" class=\"data row5 col10\" >0.00</td>\n",
       "                        <td id=\"T_73c74efc_b8ce_11eb_848f_acde48001122row5_col11\" class=\"data row5 col11\" >-73.97</td>\n",
       "                        <td id=\"T_73c74efc_b8ce_11eb_848f_acde48001122row5_col12\" class=\"data row5 col12\" >0.07</td>\n",
       "                        <td id=\"T_73c74efc_b8ce_11eb_848f_acde48001122row5_col13\" class=\"data row5 col13\" >-121.93</td>\n",
       "                        <td id=\"T_73c74efc_b8ce_11eb_848f_acde48001122row5_col14\" class=\"data row5 col14\" >-61.34</td>\n",
       "                        <td id=\"T_73c74efc_b8ce_11eb_848f_acde48001122row5_col15\" class=\"data row5 col15\" >-73.99</td>\n",
       "                        <td id=\"T_73c74efc_b8ce_11eb_848f_acde48001122row5_col16\" class=\"data row5 col16\" >-73.98</td>\n",
       "                        <td id=\"T_73c74efc_b8ce_11eb_848f_acde48001122row5_col17\" class=\"data row5 col17\" >-73.97</td>\n",
       "                        <td id=\"T_73c74efc_b8ce_11eb_848f_acde48001122row5_col18\" class=\"data row5 col18\" >pickup_longitude</td>\n",
       "                        <td id=\"T_73c74efc_b8ce_11eb_848f_acde48001122row5_col19\" class=\"data row5 col19\" >[-121.93334197998048, -121.93323516845705, -79.56973266601562, -79.48789978027342, -78.54740142822266]</td>\n",
       "                        <td id=\"T_73c74efc_b8ce_11eb_848f_acde48001122row5_col20\" class=\"data row5 col20\" >[-61.33552932739258, -65.848388671875, -65.89738464355469, -66.97216033935545, -68.77843475341797]</td>\n",
       "                        <td id=\"T_73c74efc_b8ce_11eb_848f_acde48001122row5_col21\" class=\"data row5 col21\" >[-73.98215484619139, -73.98041534423827, -73.97902679443358, -74.01004028320312, -73.97305297851562]</td>\n",
       "                        <td id=\"T_73c74efc_b8ce_11eb_848f_acde48001122row5_col22\" class=\"data row5 col22\" >[-73.9822006225586, -74.00094604492188, -73.9591293334961, -73.9820785522461, -73.9795379638672]</td>\n",
       "            </tr>\n",
       "            <tr>\n",
       "                        <th id=\"T_73c74efc_b8ce_11eb_848f_acde48001122level0_row6\" class=\"row_heading level0 row6\" >6</th>\n",
       "                        <td id=\"T_73c74efc_b8ce_11eb_848f_acde48001122row6_col0\" class=\"data row6 col0\" >pickup_latitude</td>\n",
       "                        <td id=\"T_73c74efc_b8ce_11eb_848f_acde48001122row6_col1\" class=\"data row6 col1\" >float64</td>\n",
       "                        <td id=\"T_73c74efc_b8ce_11eb_848f_acde48001122row6_col2\" class=\"data row6 col2\" >1458644</td>\n",
       "                        <td id=\"T_73c74efc_b8ce_11eb_848f_acde48001122row6_col3\" class=\"data row6 col3\" >1458644</td>\n",
       "                        <td id=\"T_73c74efc_b8ce_11eb_848f_acde48001122row6_col4\" class=\"data row6 col4\" >45245</td>\n",
       "                        <td id=\"T_73c74efc_b8ce_11eb_848f_acde48001122row6_col5\" class=\"data row6 col5\" >0</td>\n",
       "                        <td id=\"T_73c74efc_b8ce_11eb_848f_acde48001122row6_col6\" class=\"data row6 col6\" >0.00</td>\n",
       "                        <td id=\"T_73c74efc_b8ce_11eb_848f_acde48001122row6_col7\" class=\"data row6 col7\" >0</td>\n",
       "                        <td id=\"T_73c74efc_b8ce_11eb_848f_acde48001122row6_col8\" class=\"data row6 col8\" >0.00</td>\n",
       "                        <td id=\"T_73c74efc_b8ce_11eb_848f_acde48001122row6_col9\" class=\"data row6 col9\" >0</td>\n",
       "                        <td id=\"T_73c74efc_b8ce_11eb_848f_acde48001122row6_col10\" class=\"data row6 col10\" >0.00</td>\n",
       "                        <td id=\"T_73c74efc_b8ce_11eb_848f_acde48001122row6_col11\" class=\"data row6 col11\" >40.75</td>\n",
       "                        <td id=\"T_73c74efc_b8ce_11eb_848f_acde48001122row6_col12\" class=\"data row6 col12\" >0.03</td>\n",
       "                        <td id=\"T_73c74efc_b8ce_11eb_848f_acde48001122row6_col13\" class=\"data row6 col13\" >34.36</td>\n",
       "                        <td id=\"T_73c74efc_b8ce_11eb_848f_acde48001122row6_col14\" class=\"data row6 col14\" >51.88</td>\n",
       "                        <td id=\"T_73c74efc_b8ce_11eb_848f_acde48001122row6_col15\" class=\"data row6 col15\" >40.74</td>\n",
       "                        <td id=\"T_73c74efc_b8ce_11eb_848f_acde48001122row6_col16\" class=\"data row6 col16\" >40.75</td>\n",
       "                        <td id=\"T_73c74efc_b8ce_11eb_848f_acde48001122row6_col17\" class=\"data row6 col17\" >40.77</td>\n",
       "                        <td id=\"T_73c74efc_b8ce_11eb_848f_acde48001122row6_col18\" class=\"data row6 col18\" >pickup_latitude</td>\n",
       "                        <td id=\"T_73c74efc_b8ce_11eb_848f_acde48001122row6_col19\" class=\"data row6 col19\" >[34.359695434570305, 34.71223449707032, 35.0815315246582, 35.310306549072266, 36.02930068969727]</td>\n",
       "                        <td id=\"T_73c74efc_b8ce_11eb_848f_acde48001122row6_col20\" class=\"data row6 col20\" >[51.88108444213867, 44.37194442749024, 43.91176223754883, 43.48688507080078, 43.13965225219727]</td>\n",
       "                        <td id=\"T_73c74efc_b8ce_11eb_848f_acde48001122row6_col21\" class=\"data row6 col21\" >[40.76793670654297, 40.738563537597656, 40.763938903808594, 40.719970703125, 40.79320907592773]</td>\n",
       "                        <td id=\"T_73c74efc_b8ce_11eb_848f_acde48001122row6_col22\" class=\"data row6 col22\" >[40.745521545410156, 40.74737930297852, 40.768798828125, 40.749061584472656, 40.7817497253418]</td>\n",
       "            </tr>\n",
       "            <tr>\n",
       "                        <th id=\"T_73c74efc_b8ce_11eb_848f_acde48001122level0_row7\" class=\"row_heading level0 row7\" >7</th>\n",
       "                        <td id=\"T_73c74efc_b8ce_11eb_848f_acde48001122row7_col0\" class=\"data row7 col0\" >dropoff_longitude</td>\n",
       "                        <td id=\"T_73c74efc_b8ce_11eb_848f_acde48001122row7_col1\" class=\"data row7 col1\" >float64</td>\n",
       "                        <td id=\"T_73c74efc_b8ce_11eb_848f_acde48001122row7_col2\" class=\"data row7 col2\" >1458644</td>\n",
       "                        <td id=\"T_73c74efc_b8ce_11eb_848f_acde48001122row7_col3\" class=\"data row7 col3\" >1458644</td>\n",
       "                        <td id=\"T_73c74efc_b8ce_11eb_848f_acde48001122row7_col4\" class=\"data row7 col4\" >33821</td>\n",
       "                        <td id=\"T_73c74efc_b8ce_11eb_848f_acde48001122row7_col5\" class=\"data row7 col5\" >0</td>\n",
       "                        <td id=\"T_73c74efc_b8ce_11eb_848f_acde48001122row7_col6\" class=\"data row7 col6\" >0.00</td>\n",
       "                        <td id=\"T_73c74efc_b8ce_11eb_848f_acde48001122row7_col7\" class=\"data row7 col7\" >0</td>\n",
       "                        <td id=\"T_73c74efc_b8ce_11eb_848f_acde48001122row7_col8\" class=\"data row7 col8\" >0.00</td>\n",
       "                        <td id=\"T_73c74efc_b8ce_11eb_848f_acde48001122row7_col9\" class=\"data row7 col9\" >0</td>\n",
       "                        <td id=\"T_73c74efc_b8ce_11eb_848f_acde48001122row7_col10\" class=\"data row7 col10\" >0.00</td>\n",
       "                        <td id=\"T_73c74efc_b8ce_11eb_848f_acde48001122row7_col11\" class=\"data row7 col11\" >-73.97</td>\n",
       "                        <td id=\"T_73c74efc_b8ce_11eb_848f_acde48001122row7_col12\" class=\"data row7 col12\" >0.07</td>\n",
       "                        <td id=\"T_73c74efc_b8ce_11eb_848f_acde48001122row7_col13\" class=\"data row7 col13\" >-121.93</td>\n",
       "                        <td id=\"T_73c74efc_b8ce_11eb_848f_acde48001122row7_col14\" class=\"data row7 col14\" >-61.34</td>\n",
       "                        <td id=\"T_73c74efc_b8ce_11eb_848f_acde48001122row7_col15\" class=\"data row7 col15\" >-73.99</td>\n",
       "                        <td id=\"T_73c74efc_b8ce_11eb_848f_acde48001122row7_col16\" class=\"data row7 col16\" >-73.98</td>\n",
       "                        <td id=\"T_73c74efc_b8ce_11eb_848f_acde48001122row7_col17\" class=\"data row7 col17\" >-73.96</td>\n",
       "                        <td id=\"T_73c74efc_b8ce_11eb_848f_acde48001122row7_col18\" class=\"data row7 col18\" >dropoff_longitude</td>\n",
       "                        <td id=\"T_73c74efc_b8ce_11eb_848f_acde48001122row7_col19\" class=\"data row7 col19\" >[-121.9333038330078, -121.93320465087892, -80.35543060302734, -79.81797790527342, -79.7861328125]</td>\n",
       "                        <td id=\"T_73c74efc_b8ce_11eb_848f_acde48001122row7_col20\" class=\"data row7 col20\" >[-61.33552932739258, -65.848388671875, -65.89738464355469, -68.77843475341797, -69.04801940917969]</td>\n",
       "                        <td id=\"T_73c74efc_b8ce_11eb_848f_acde48001122row7_col21\" class=\"data row7 col21\" >[-73.96463012695312, -73.99948120117188, -74.00533294677734, -74.01226806640625, -73.9729232788086]</td>\n",
       "                        <td id=\"T_73c74efc_b8ce_11eb_848f_acde48001122row7_col22\" class=\"data row7 col22\" >[-73.99491119384766, -73.97018432617188, -74.00443267822266, -73.97463226318358, -73.97280883789062]</td>\n",
       "            </tr>\n",
       "            <tr>\n",
       "                        <th id=\"T_73c74efc_b8ce_11eb_848f_acde48001122level0_row8\" class=\"row_heading level0 row8\" >8</th>\n",
       "                        <td id=\"T_73c74efc_b8ce_11eb_848f_acde48001122row8_col0\" class=\"data row8 col0\" >dropoff_latitude</td>\n",
       "                        <td id=\"T_73c74efc_b8ce_11eb_848f_acde48001122row8_col1\" class=\"data row8 col1\" >float64</td>\n",
       "                        <td id=\"T_73c74efc_b8ce_11eb_848f_acde48001122row8_col2\" class=\"data row8 col2\" >1458644</td>\n",
       "                        <td id=\"T_73c74efc_b8ce_11eb_848f_acde48001122row8_col3\" class=\"data row8 col3\" >1458644</td>\n",
       "                        <td id=\"T_73c74efc_b8ce_11eb_848f_acde48001122row8_col4\" class=\"data row8 col4\" >62519</td>\n",
       "                        <td id=\"T_73c74efc_b8ce_11eb_848f_acde48001122row8_col5\" class=\"data row8 col5\" >0</td>\n",
       "                        <td id=\"T_73c74efc_b8ce_11eb_848f_acde48001122row8_col6\" class=\"data row8 col6\" >0.00</td>\n",
       "                        <td id=\"T_73c74efc_b8ce_11eb_848f_acde48001122row8_col7\" class=\"data row8 col7\" >0</td>\n",
       "                        <td id=\"T_73c74efc_b8ce_11eb_848f_acde48001122row8_col8\" class=\"data row8 col8\" >0.00</td>\n",
       "                        <td id=\"T_73c74efc_b8ce_11eb_848f_acde48001122row8_col9\" class=\"data row8 col9\" >0</td>\n",
       "                        <td id=\"T_73c74efc_b8ce_11eb_848f_acde48001122row8_col10\" class=\"data row8 col10\" >0.00</td>\n",
       "                        <td id=\"T_73c74efc_b8ce_11eb_848f_acde48001122row8_col11\" class=\"data row8 col11\" >40.75</td>\n",
       "                        <td id=\"T_73c74efc_b8ce_11eb_848f_acde48001122row8_col12\" class=\"data row8 col12\" >0.04</td>\n",
       "                        <td id=\"T_73c74efc_b8ce_11eb_848f_acde48001122row8_col13\" class=\"data row8 col13\" >32.18</td>\n",
       "                        <td id=\"T_73c74efc_b8ce_11eb_848f_acde48001122row8_col14\" class=\"data row8 col14\" >43.92</td>\n",
       "                        <td id=\"T_73c74efc_b8ce_11eb_848f_acde48001122row8_col15\" class=\"data row8 col15\" >40.74</td>\n",
       "                        <td id=\"T_73c74efc_b8ce_11eb_848f_acde48001122row8_col16\" class=\"data row8 col16\" >40.75</td>\n",
       "                        <td id=\"T_73c74efc_b8ce_11eb_848f_acde48001122row8_col17\" class=\"data row8 col17\" >40.77</td>\n",
       "                        <td id=\"T_73c74efc_b8ce_11eb_848f_acde48001122row8_col18\" class=\"data row8 col18\" >dropoff_latitude</td>\n",
       "                        <td id=\"T_73c74efc_b8ce_11eb_848f_acde48001122row8_col19\" class=\"data row8 col19\" >[32.1811408996582, 34.359695434570305, 35.173545837402344, 36.02930068969727, 36.11853790283203]</td>\n",
       "                        <td id=\"T_73c74efc_b8ce_11eb_848f_acde48001122row8_col20\" class=\"data row8 col20\" >[43.92102813720703, 43.91176223754883, 43.67399978637695, 43.48688507080078, 43.1475830078125]</td>\n",
       "                        <td id=\"T_73c74efc_b8ce_11eb_848f_acde48001122row8_col21\" class=\"data row8 col21\" >[40.765602111816406, 40.73115158081055, 40.71008682250977, 40.70671844482422, 40.78252029418945]</td>\n",
       "                        <td id=\"T_73c74efc_b8ce_11eb_848f_acde48001122row8_col22\" class=\"data row8 col22\" >[40.74016952514648, 40.796546936035156, 40.70737075805664, 40.75710678100585, 40.79058456420898]</td>\n",
       "            </tr>\n",
       "            <tr>\n",
       "                        <th id=\"T_73c74efc_b8ce_11eb_848f_acde48001122level0_row9\" class=\"row_heading level0 row9\" >9</th>\n",
       "                        <td id=\"T_73c74efc_b8ce_11eb_848f_acde48001122row9_col0\" class=\"data row9 col0\" >store_and_fwd_flag</td>\n",
       "                        <td id=\"T_73c74efc_b8ce_11eb_848f_acde48001122row9_col1\" class=\"data row9 col1\" >object</td>\n",
       "                        <td id=\"T_73c74efc_b8ce_11eb_848f_acde48001122row9_col2\" class=\"data row9 col2\" >1458644</td>\n",
       "                        <td id=\"T_73c74efc_b8ce_11eb_848f_acde48001122row9_col3\" class=\"data row9 col3\" >1458644</td>\n",
       "                        <td id=\"T_73c74efc_b8ce_11eb_848f_acde48001122row9_col4\" class=\"data row9 col4\" >2</td>\n",
       "                        <td id=\"T_73c74efc_b8ce_11eb_848f_acde48001122row9_col5\" class=\"data row9 col5\" >0</td>\n",
       "                        <td id=\"T_73c74efc_b8ce_11eb_848f_acde48001122row9_col6\" class=\"data row9 col6\" >0.00</td>\n",
       "                        <td id=\"T_73c74efc_b8ce_11eb_848f_acde48001122row9_col7\" class=\"data row9 col7\" >0</td>\n",
       "                        <td id=\"T_73c74efc_b8ce_11eb_848f_acde48001122row9_col8\" class=\"data row9 col8\" >0.00</td>\n",
       "                        <td id=\"T_73c74efc_b8ce_11eb_848f_acde48001122row9_col9\" class=\"data row9 col9\" >0</td>\n",
       "                        <td id=\"T_73c74efc_b8ce_11eb_848f_acde48001122row9_col10\" class=\"data row9 col10\" >0.00</td>\n",
       "                        <td id=\"T_73c74efc_b8ce_11eb_848f_acde48001122row9_col11\" class=\"data row9 col11\" ></td>\n",
       "                        <td id=\"T_73c74efc_b8ce_11eb_848f_acde48001122row9_col12\" class=\"data row9 col12\" ></td>\n",
       "                        <td id=\"T_73c74efc_b8ce_11eb_848f_acde48001122row9_col13\" class=\"data row9 col13\" ></td>\n",
       "                        <td id=\"T_73c74efc_b8ce_11eb_848f_acde48001122row9_col14\" class=\"data row9 col14\" ></td>\n",
       "                        <td id=\"T_73c74efc_b8ce_11eb_848f_acde48001122row9_col15\" class=\"data row9 col15\" ></td>\n",
       "                        <td id=\"T_73c74efc_b8ce_11eb_848f_acde48001122row9_col16\" class=\"data row9 col16\" ></td>\n",
       "                        <td id=\"T_73c74efc_b8ce_11eb_848f_acde48001122row9_col17\" class=\"data row9 col17\" ></td>\n",
       "                        <td id=\"T_73c74efc_b8ce_11eb_848f_acde48001122row9_col18\" class=\"data row9 col18\" >store_and_fwd_flag</td>\n",
       "                        <td id=\"T_73c74efc_b8ce_11eb_848f_acde48001122row9_col19\" class=\"data row9 col19\" >['N', 'N', 'N', 'N', 'N']</td>\n",
       "                        <td id=\"T_73c74efc_b8ce_11eb_848f_acde48001122row9_col20\" class=\"data row9 col20\" >['Y', 'Y', 'Y', 'Y', 'Y']</td>\n",
       "                        <td id=\"T_73c74efc_b8ce_11eb_848f_acde48001122row9_col21\" class=\"data row9 col21\" >['N', 'N', 'N', 'N', 'N']</td>\n",
       "                        <td id=\"T_73c74efc_b8ce_11eb_848f_acde48001122row9_col22\" class=\"data row9 col22\" >['N', 'N', 'N', 'N', 'N']</td>\n",
       "            </tr>\n",
       "            <tr>\n",
       "                        <th id=\"T_73c74efc_b8ce_11eb_848f_acde48001122level0_row10\" class=\"row_heading level0 row10\" >10</th>\n",
       "                        <td id=\"T_73c74efc_b8ce_11eb_848f_acde48001122row10_col0\" class=\"data row10 col0\" >trip_duration</td>\n",
       "                        <td id=\"T_73c74efc_b8ce_11eb_848f_acde48001122row10_col1\" class=\"data row10 col1\" >int64</td>\n",
       "                        <td id=\"T_73c74efc_b8ce_11eb_848f_acde48001122row10_col2\" class=\"data row10 col2\" >1458644</td>\n",
       "                        <td id=\"T_73c74efc_b8ce_11eb_848f_acde48001122row10_col3\" class=\"data row10 col3\" >1458644</td>\n",
       "                        <td id=\"T_73c74efc_b8ce_11eb_848f_acde48001122row10_col4\" class=\"data row10 col4\" >7417</td>\n",
       "                        <td id=\"T_73c74efc_b8ce_11eb_848f_acde48001122row10_col5\" class=\"data row10 col5\" >0</td>\n",
       "                        <td id=\"T_73c74efc_b8ce_11eb_848f_acde48001122row10_col6\" class=\"data row10 col6\" >0.00</td>\n",
       "                        <td id=\"T_73c74efc_b8ce_11eb_848f_acde48001122row10_col7\" class=\"data row10 col7\" >0</td>\n",
       "                        <td id=\"T_73c74efc_b8ce_11eb_848f_acde48001122row10_col8\" class=\"data row10 col8\" >0.00</td>\n",
       "                        <td id=\"T_73c74efc_b8ce_11eb_848f_acde48001122row10_col9\" class=\"data row10 col9\" >33</td>\n",
       "                        <td id=\"T_73c74efc_b8ce_11eb_848f_acde48001122row10_col10\" class=\"data row10 col10\" >0.00</td>\n",
       "                        <td id=\"T_73c74efc_b8ce_11eb_848f_acde48001122row10_col11\" class=\"data row10 col11\" >959.49</td>\n",
       "                        <td id=\"T_73c74efc_b8ce_11eb_848f_acde48001122row10_col12\" class=\"data row10 col12\" >5237.43</td>\n",
       "                        <td id=\"T_73c74efc_b8ce_11eb_848f_acde48001122row10_col13\" class=\"data row10 col13\" >1.00</td>\n",
       "                        <td id=\"T_73c74efc_b8ce_11eb_848f_acde48001122row10_col14\" class=\"data row10 col14\" >3526282.00</td>\n",
       "                        <td id=\"T_73c74efc_b8ce_11eb_848f_acde48001122row10_col15\" class=\"data row10 col15\" >397.00</td>\n",
       "                        <td id=\"T_73c74efc_b8ce_11eb_848f_acde48001122row10_col16\" class=\"data row10 col16\" >662.00</td>\n",
       "                        <td id=\"T_73c74efc_b8ce_11eb_848f_acde48001122row10_col17\" class=\"data row10 col17\" >1075.00</td>\n",
       "                        <td id=\"T_73c74efc_b8ce_11eb_848f_acde48001122row10_col18\" class=\"data row10 col18\" >trip_duration</td>\n",
       "                        <td id=\"T_73c74efc_b8ce_11eb_848f_acde48001122row10_col19\" class=\"data row10 col19\" >[1, 1, 1, 1, 1]</td>\n",
       "                        <td id=\"T_73c74efc_b8ce_11eb_848f_acde48001122row10_col20\" class=\"data row10 col20\" >[3526282, 2227612, 2049578, 1939736, 86392]</td>\n",
       "                        <td id=\"T_73c74efc_b8ce_11eb_848f_acde48001122row10_col21\" class=\"data row10 col21\" >[455, 663, 2124, 429, 435]</td>\n",
       "                        <td id=\"T_73c74efc_b8ce_11eb_848f_acde48001122row10_col22\" class=\"data row10 col22\" >[778, 655, 764, 373, 198]</td>\n",
       "            </tr>\n",
       "    </tbody></table>"
      ],
      "text/plain": [
       "<pandas.io.formats.style.Styler at 0x7f9a230427d0>"
      ]
     },
     "execution_count": 6,
     "metadata": {},
     "output_type": "execute_result"
    }
   ],
   "source": [
    "df.bp.describe()"
   ]
  },
  {
   "cell_type": "markdown",
   "metadata": {},
   "source": [
    "# Reduce Memory size"
   ]
  },
  {
   "cell_type": "code",
   "execution_count": 7,
   "metadata": {
    "ExecuteTime": {
     "end_time": "2021-05-19T18:17:21.060609Z",
     "start_time": "2021-05-19T18:17:21.045165Z"
    }
   },
   "outputs": [
    {
     "data": {
      "text/plain": [
       "122.41439819335938"
      ]
     },
     "execution_count": 7,
     "metadata": {},
     "output_type": "execute_result"
    }
   ],
   "source": [
    "df.memory_usage().sum() / 2**20 # MB"
   ]
  },
  {
   "cell_type": "code",
   "execution_count": 8,
   "metadata": {
    "ExecuteTime": {
     "end_time": "2021-05-19T18:17:21.071874Z",
     "start_time": "2021-05-19T18:17:21.063262Z"
    }
   },
   "outputs": [
    {
     "data": {
      "text/plain": [
       "Index(['id', 'vendor_id', 'pickup_datetime', 'dropoff_datetime',\n",
       "       'passenger_count', 'pickup_longitude', 'pickup_latitude',\n",
       "       'dropoff_longitude', 'dropoff_latitude', 'store_and_fwd_flag',\n",
       "       'trip_duration'],\n",
       "      dtype='object')"
      ]
     },
     "execution_count": 8,
     "metadata": {},
     "output_type": "execute_result"
    }
   ],
   "source": [
    "df.columns"
   ]
  },
  {
   "cell_type": "code",
   "execution_count": 9,
   "metadata": {
    "ExecuteTime": {
     "end_time": "2021-05-19T18:17:22.149731Z",
     "start_time": "2021-05-19T18:17:21.086528Z"
    }
   },
   "outputs": [
    {
     "data": {
      "text/plain": [
       "vendor_id              2\n",
       "passenger_count       10\n",
       "store_and_fwd_flag     2\n",
       "dtype: int64"
      ]
     },
     "execution_count": 9,
     "metadata": {},
     "output_type": "execute_result"
    }
   ],
   "source": [
    "df.apply(pd.Series.nunique).loc[lambda x: x<20]"
   ]
  },
  {
   "cell_type": "code",
   "execution_count": 10,
   "metadata": {
    "ExecuteTime": {
     "end_time": "2021-05-19T18:17:23.220148Z",
     "start_time": "2021-05-19T18:17:22.156884Z"
    }
   },
   "outputs": [
    {
     "data": {
      "text/plain": [
       "array(['vendor_id', 'passenger_count', 'store_and_fwd_flag'], dtype=object)"
      ]
     },
     "execution_count": 10,
     "metadata": {},
     "output_type": "execute_result"
    }
   ],
   "source": [
    "cols_cat = df.apply(pd.Series.nunique).loc[lambda x: x<20].index.values\n",
    "cols_cat"
   ]
  },
  {
   "cell_type": "code",
   "execution_count": 11,
   "metadata": {
    "ExecuteTime": {
     "end_time": "2021-05-19T18:17:23.392350Z",
     "start_time": "2021-05-19T18:17:23.225568Z"
    }
   },
   "outputs": [],
   "source": [
    "for c in cols_cat:\n",
    "    df[c] = df[c].astype('category')"
   ]
  },
  {
   "cell_type": "code",
   "execution_count": 12,
   "metadata": {
    "ExecuteTime": {
     "end_time": "2021-05-19T18:17:23.420795Z",
     "start_time": "2021-05-19T18:17:23.395406Z"
    }
   },
   "outputs": [
    {
     "data": {
      "text/plain": [
       "['trip_duration']"
      ]
     },
     "execution_count": 12,
     "metadata": {},
     "output_type": "execute_result"
    }
   ],
   "source": [
    "# integers\n",
    "cols_int = df.select_dtypes('integer').columns.tolist()\n",
    "cols_int"
   ]
  },
  {
   "cell_type": "code",
   "execution_count": 13,
   "metadata": {
    "ExecuteTime": {
     "end_time": "2021-05-19T18:17:23.444297Z",
     "start_time": "2021-05-19T18:17:23.425268Z"
    }
   },
   "outputs": [],
   "source": [
    "for c in cols_int:\n",
    "    df[c] = df[c].astype(np.int32)"
   ]
  },
  {
   "cell_type": "code",
   "execution_count": 14,
   "metadata": {
    "ExecuteTime": {
     "end_time": "2021-05-19T18:17:23.487327Z",
     "start_time": "2021-05-19T18:17:23.446783Z"
    }
   },
   "outputs": [
    {
     "data": {
      "text/plain": [
       "['pickup_longitude',\n",
       " 'pickup_latitude',\n",
       " 'dropoff_longitude',\n",
       " 'dropoff_latitude']"
      ]
     },
     "execution_count": 14,
     "metadata": {},
     "output_type": "execute_result"
    }
   ],
   "source": [
    "# floats\n",
    "cols_float = df.select_dtypes('float').columns.tolist()\n",
    "cols_float"
   ]
  },
  {
   "cell_type": "code",
   "execution_count": 15,
   "metadata": {
    "ExecuteTime": {
     "end_time": "2021-05-19T18:17:23.534059Z",
     "start_time": "2021-05-19T18:17:23.490829Z"
    }
   },
   "outputs": [],
   "source": [
    "for c in cols_float:\n",
    "    df[c] = df[c].astype('float32')"
   ]
  },
  {
   "cell_type": "code",
   "execution_count": 16,
   "metadata": {
    "ExecuteTime": {
     "end_time": "2021-05-19T18:17:23.614499Z",
     "start_time": "2021-05-19T18:17:23.536396Z"
    }
   },
   "outputs": [
    {
     "data": {
      "text/plain": [
       "0.06384867057204247"
      ]
     },
     "execution_count": 16,
     "metadata": {},
     "output_type": "execute_result"
    }
   ],
   "source": [
    "df.memory_usage().sum() / 2**30 # MB"
   ]
  },
  {
   "cell_type": "markdown",
   "metadata": {},
   "source": [
    "# Missing values and Duplicated ID"
   ]
  },
  {
   "cell_type": "code",
   "execution_count": 17,
   "metadata": {
    "ExecuteTime": {
     "end_time": "2021-05-19T18:17:23.718504Z",
     "start_time": "2021-05-19T18:17:23.619296Z"
    }
   },
   "outputs": [
    {
     "data": {
      "text/plain": [
       "0"
      ]
     },
     "execution_count": 17,
     "metadata": {},
     "output_type": "execute_result"
    }
   ],
   "source": [
    "df.isna().sum().sum()"
   ]
  },
  {
   "cell_type": "code",
   "execution_count": 18,
   "metadata": {
    "ExecuteTime": {
     "end_time": "2021-05-19T18:17:23.737934Z",
     "start_time": "2021-05-19T18:17:23.723105Z"
    }
   },
   "outputs": [
    {
     "data": {
      "text/html": [
       "<div>\n",
       "<style scoped>\n",
       "    .dataframe tbody tr th:only-of-type {\n",
       "        vertical-align: middle;\n",
       "    }\n",
       "\n",
       "    .dataframe tbody tr th {\n",
       "        vertical-align: top;\n",
       "    }\n",
       "\n",
       "    .dataframe thead th {\n",
       "        text-align: right;\n",
       "    }\n",
       "</style>\n",
       "<table border=\"1\" class=\"dataframe\">\n",
       "  <thead>\n",
       "    <tr style=\"text-align: right;\">\n",
       "      <th></th>\n",
       "      <th>id</th>\n",
       "      <th>vendor_id</th>\n",
       "      <th>pickup_datetime</th>\n",
       "      <th>dropoff_datetime</th>\n",
       "      <th>passenger_count</th>\n",
       "      <th>pickup_longitude</th>\n",
       "      <th>pickup_latitude</th>\n",
       "      <th>dropoff_longitude</th>\n",
       "      <th>dropoff_latitude</th>\n",
       "      <th>store_and_fwd_flag</th>\n",
       "      <th>trip_duration</th>\n",
       "    </tr>\n",
       "  </thead>\n",
       "  <tbody>\n",
       "    <tr>\n",
       "      <th>0</th>\n",
       "      <td>id2875421</td>\n",
       "      <td>2</td>\n",
       "      <td>2016-03-14 17:24:55</td>\n",
       "      <td>2016-03-14 17:32:30</td>\n",
       "      <td>1</td>\n",
       "      <td>-73.982155</td>\n",
       "      <td>40.767937</td>\n",
       "      <td>-73.964630</td>\n",
       "      <td>40.765602</td>\n",
       "      <td>N</td>\n",
       "      <td>455</td>\n",
       "    </tr>\n",
       "    <tr>\n",
       "      <th>1</th>\n",
       "      <td>id2377394</td>\n",
       "      <td>1</td>\n",
       "      <td>2016-06-12 00:43:35</td>\n",
       "      <td>2016-06-12 00:54:38</td>\n",
       "      <td>1</td>\n",
       "      <td>-73.980415</td>\n",
       "      <td>40.738564</td>\n",
       "      <td>-73.999481</td>\n",
       "      <td>40.731152</td>\n",
       "      <td>N</td>\n",
       "      <td>663</td>\n",
       "    </tr>\n",
       "  </tbody>\n",
       "</table>\n",
       "</div>"
      ],
      "text/plain": [
       "          id vendor_id     pickup_datetime    dropoff_datetime  \\\n",
       "0  id2875421         2 2016-03-14 17:24:55 2016-03-14 17:32:30   \n",
       "1  id2377394         1 2016-06-12 00:43:35 2016-06-12 00:54:38   \n",
       "\n",
       "  passenger_count  pickup_longitude  pickup_latitude  dropoff_longitude  \\\n",
       "0               1        -73.982155        40.767937         -73.964630   \n",
       "1               1        -73.980415        40.738564         -73.999481   \n",
       "\n",
       "   dropoff_latitude store_and_fwd_flag  trip_duration  \n",
       "0         40.765602                  N            455  \n",
       "1         40.731152                  N            663  "
      ]
     },
     "execution_count": 18,
     "metadata": {},
     "output_type": "execute_result"
    }
   ],
   "source": [
    "df.head(2)"
   ]
  },
  {
   "cell_type": "code",
   "execution_count": 19,
   "metadata": {
    "ExecuteTime": {
     "end_time": "2021-05-19T18:17:24.126961Z",
     "start_time": "2021-05-19T18:17:23.740005Z"
    }
   },
   "outputs": [
    {
     "data": {
      "text/html": [
       "<div>\n",
       "<style scoped>\n",
       "    .dataframe tbody tr th:only-of-type {\n",
       "        vertical-align: middle;\n",
       "    }\n",
       "\n",
       "    .dataframe tbody tr th {\n",
       "        vertical-align: top;\n",
       "    }\n",
       "\n",
       "    .dataframe thead th {\n",
       "        text-align: right;\n",
       "    }\n",
       "</style>\n",
       "<table border=\"1\" class=\"dataframe\">\n",
       "  <thead>\n",
       "    <tr style=\"text-align: right;\">\n",
       "      <th></th>\n",
       "      <th>id</th>\n",
       "      <th>vendor_id</th>\n",
       "      <th>pickup_datetime</th>\n",
       "      <th>dropoff_datetime</th>\n",
       "      <th>passenger_count</th>\n",
       "      <th>pickup_longitude</th>\n",
       "      <th>pickup_latitude</th>\n",
       "      <th>dropoff_longitude</th>\n",
       "      <th>dropoff_latitude</th>\n",
       "      <th>store_and_fwd_flag</th>\n",
       "      <th>trip_duration</th>\n",
       "    </tr>\n",
       "  </thead>\n",
       "  <tbody>\n",
       "  </tbody>\n",
       "</table>\n",
       "</div>"
      ],
      "text/plain": [
       "Empty DataFrame\n",
       "Columns: [id, vendor_id, pickup_datetime, dropoff_datetime, passenger_count, pickup_longitude, pickup_latitude, dropoff_longitude, dropoff_latitude, store_and_fwd_flag, trip_duration]\n",
       "Index: []"
      ]
     },
     "execution_count": 19,
     "metadata": {},
     "output_type": "execute_result"
    }
   ],
   "source": [
    "# check for duplicates\n",
    "df[df.duplicated('id')]"
   ]
  },
  {
   "cell_type": "markdown",
   "metadata": {},
   "source": [
    "# Features"
   ]
  },
  {
   "cell_type": "markdown",
   "metadata": {},
   "source": [
    "## Vendor id"
   ]
  },
  {
   "cell_type": "code",
   "execution_count": 20,
   "metadata": {
    "ExecuteTime": {
     "end_time": "2021-05-19T18:17:24.182546Z",
     "start_time": "2021-05-19T18:17:24.139854Z"
    }
   },
   "outputs": [
    {
     "data": {
      "text/plain": [
       "[2, 1]\n",
       "Categories (2, int64): [2, 1]"
      ]
     },
     "execution_count": 20,
     "metadata": {},
     "output_type": "execute_result"
    }
   ],
   "source": [
    "df['vendor_id'].unique()"
   ]
  },
  {
   "cell_type": "markdown",
   "metadata": {},
   "source": [
    "# Latutudes and Longitudes"
   ]
  },
  {
   "cell_type": "code",
   "execution_count": 21,
   "metadata": {
    "ExecuteTime": {
     "end_time": "2021-05-19T18:17:24.278607Z",
     "start_time": "2021-05-19T18:17:24.189433Z"
    }
   },
   "outputs": [
    {
     "data": {
      "text/html": [
       "<div>\n",
       "<style scoped>\n",
       "    .dataframe tbody tr th:only-of-type {\n",
       "        vertical-align: middle;\n",
       "    }\n",
       "\n",
       "    .dataframe tbody tr th {\n",
       "        vertical-align: top;\n",
       "    }\n",
       "\n",
       "    .dataframe thead th {\n",
       "        text-align: right;\n",
       "    }\n",
       "</style>\n",
       "<table border=\"1\" class=\"dataframe\">\n",
       "  <thead>\n",
       "    <tr style=\"text-align: right;\">\n",
       "      <th></th>\n",
       "      <th>pickup_longitude</th>\n",
       "      <th>pickup_latitude</th>\n",
       "      <th>dropoff_longitude</th>\n",
       "      <th>dropoff_latitude</th>\n",
       "    </tr>\n",
       "  </thead>\n",
       "  <tbody>\n",
       "    <tr>\n",
       "      <th>min</th>\n",
       "      <td>-121.933342</td>\n",
       "      <td>34.359695</td>\n",
       "      <td>-121.933304</td>\n",
       "      <td>32.181141</td>\n",
       "    </tr>\n",
       "    <tr>\n",
       "      <th>max</th>\n",
       "      <td>-61.335529</td>\n",
       "      <td>51.881084</td>\n",
       "      <td>-61.335529</td>\n",
       "      <td>43.921028</td>\n",
       "    </tr>\n",
       "  </tbody>\n",
       "</table>\n",
       "</div>"
      ],
      "text/plain": [
       "     pickup_longitude  pickup_latitude  dropoff_longitude  dropoff_latitude\n",
       "min       -121.933342        34.359695        -121.933304         32.181141\n",
       "max        -61.335529        51.881084         -61.335529         43.921028"
      ]
     },
     "execution_count": 21,
     "metadata": {},
     "output_type": "execute_result"
    }
   ],
   "source": [
    "df[['pickup_longitude','pickup_latitude','dropoff_longitude','dropoff_latitude']].agg(['min','max'])"
   ]
  },
  {
   "cell_type": "code",
   "execution_count": null,
   "metadata": {},
   "outputs": [],
   "source": []
  }
 ],
 "metadata": {
  "kernelspec": {
   "display_name": "Python (dataSc)",
   "language": "python",
   "name": "datasc"
  },
  "language_info": {
   "codemirror_mode": {
    "name": "ipython",
    "version": 3
   },
   "file_extension": ".py",
   "mimetype": "text/x-python",
   "name": "python",
   "nbconvert_exporter": "python",
   "pygments_lexer": "ipython3",
   "version": "3.7.7"
  },
  "toc": {
   "base_numbering": 1,
   "nav_menu": {},
   "number_sections": true,
   "sideBar": true,
   "skip_h1_title": false,
   "title_cell": "Table of Contents",
   "title_sidebar": "Contents",
   "toc_cell": true,
   "toc_position": {},
   "toc_section_display": true,
   "toc_window_display": false
  }
 },
 "nbformat": 4,
 "nbformat_minor": 4
}
